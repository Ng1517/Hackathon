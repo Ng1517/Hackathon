{
 "cells": [
  {
   "cell_type": "code",
   "execution_count": 8,
   "metadata": {},
   "outputs": [
    {
     "name": "stderr",
     "output_type": "stream",
     "text": [
      "Device set to use cpu\n"
     ]
    },
    {
     "name": "stdout",
     "output_type": "stream",
     "text": [
      "Welcome to Speech Recognition!\n",
      "Adjusting for ambient noise... Please wait.\n",
      "Listening... Speak into the microphone.\n",
      "Processing your input...\n",
      "You said: I am very\n",
      "It seems your voice shows joy\n"
     ]
    }
   ],
   "source": [
    "from transformers import pipeline\n",
    "import speech_recognition as sr\n",
    "\n",
    "def recognize_speech_from_microphone():\n",
    "    # Initialize recognizer\n",
    "    recognizer = sr.Recognizer()\n",
    "\n",
    "    # Use microphone as input source\n",
    "    with sr.Microphone() as source:\n",
    "        print(\"Adjusting for ambient noise... Please wait.\")\n",
    "        recognizer.adjust_for_ambient_noise(source, duration=3)\n",
    "        print(\"Listening... Speak into the microphone.\")\n",
    "\n",
    "        try:\n",
    "            # Capture audio from the microphone\n",
    "            audio = recognizer.listen(source, timeout=10)\n",
    "            print(\"Processing your input...\")\n",
    "\n",
    "            # Recognize speech using Google Web Speech API\n",
    "            text = recognizer.recognize_google(audio)\n",
    "            print(f\"You said: {text}\")\n",
    "            return text\n",
    "\n",
    "        except sr.UnknownValueError:\n",
    "            print(\"Sorry, I could not understand your speech.\")\n",
    "        except sr.RequestError as e:\n",
    "            print(f\"Could not request results from Google Speech Recognition service; {e}\")\n",
    "        except Exception as e:\n",
    "            print(f\"An error occurred: {e}\")\n",
    "\n",
    "    return None\n",
    "\n",
    "\n",
    "\n",
    "# Load the pre-trained emotion detection model\n",
    "classifier = pipeline(\"text-classification\", model=\"bhadresh-savani/distilbert-base-uncased-emotion\")\n",
    "\n",
    "def detect_emotion(text):\n",
    "    \"\"\"\n",
    "    Predict the emotion of the given text.\n",
    "    \"\"\"\n",
    "    # Get model predictions\n",
    "    results = classifier(text)\n",
    "    # Extract the label with the highest score\n",
    "    emotion = results[0]['label']\n",
    "    return emotion\n",
    "\n",
    "if __name__ == \"__main__\":\n",
    "    print(\"Welcome to Speech Recognition!\")\n",
    "    recognized_text = recognize_speech_from_microphone()\n",
    "    if recognized_text:\n",
    "        emotion = detect_emotion(recognized_text)\n",
    "        \n",
    "        print(f\"It seems your voice shows {emotion}\")\n",
    "    else:\n",
    "        print(\"No speech recognized.\")\n"
   ]
  },
  {
   "cell_type": "code",
   "execution_count": null,
   "metadata": {},
   "outputs": [],
   "source": []
  }
 ],
 "metadata": {
  "kernelspec": {
   "display_name": "Python 3",
   "language": "python",
   "name": "python3"
  },
  "language_info": {
   "codemirror_mode": {
    "name": "ipython",
    "version": 3
   },
   "file_extension": ".py",
   "mimetype": "text/x-python",
   "name": "python",
   "nbconvert_exporter": "python",
   "pygments_lexer": "ipython3",
   "version": "3.13.1"
  }
 },
 "nbformat": 4,
 "nbformat_minor": 2
}
