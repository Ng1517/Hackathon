{
 "cells": [
  {
   "cell_type": "code",
   "execution_count": null,
   "metadata": {},
   "outputs": [],
   "source": [
    "import sys\n",
    "from PyQt6.QtWidgets import QApplication, QWidget, QVBoxLayout, QPushButton, QLabel, QLineEdit\n",
    "from transformers import pipeline\n",
    "\n",
    "# Load the emotion classification model\n",
    "emotion_classifier = pipeline(\"text-classification\", model=\"bhadresh-savani/distilbert-base-uncased-emotion\")\n",
    "\n",
    "class EmotionApp(QWidget):\n",
    "    def __init__(self):\n",
    "        super().__init__()\n",
    "\n",
    "        self.setWindowTitle(\"Emotion Detector\")\n",
    "        self.setGeometry(100, 100, 400, 200)\n",
    "\n",
    "        # UI Elements\n",
    "        self.label = QLabel(\"Enter your text:\", self)\n",
    "        self.textbox = QLineEdit(self)\n",
    "        \n",
    "        self.button = QPushButton(\"Detect Emotion\", self)\n",
    "        self.button.clicked.connect(self.detect_emotion)\n",
    "\n",
    "        self.result_label = QLabel(\"\", self)\n",
    "\n",
    "        # Layout\n",
    "        layout = QVBoxLayout()\n",
    "        layout.addWidget(self.label)\n",
    "        layout.addWidget(self.textbox)\n",
    "        layout.addWidget(self.button)\n",
    "        layout.addWidget(self.result_label)\n",
    "\n",
    "        self.setLayout(layout)\n",
    "\n",
    "    def detect_emotion(self):\n",
    "        text = self.textbox.text().strip()\n",
    "        if text:\n",
    "            result = emotion_classifier(text)\n",
    "            self.result_label.setText(f\"Detected Emotion: {result[0]['label']}\")\n",
    "        else:\n",
    "            self.result_label.setText(\"Please enter some text.\")\n",
    "\n",
    "# Run the application\n",
    "if __name__ == \"__main__\":\n",
    "    app = QApplication(sys.argv)\n",
    "    window = EmotionApp()\n",
    "    window.show()\n",
    "    sys.exit(app.exec())"
   ]
  }
 ],
 "metadata": {
  "kernelspec": {
   "display_name": "Python 3",
   "language": "python",
   "name": "python3"
  },
  "language_info": {
   "codemirror_mode": {
    "name": "ipython",
    "version": 3
   },
   "file_extension": ".py",
   "mimetype": "text/x-python",
   "name": "python",
   "nbconvert_exporter": "python",
   "pygments_lexer": "ipython3",
   "version": "3.13.1"
  }
 },
 "nbformat": 4,
 "nbformat_minor": 2
}
