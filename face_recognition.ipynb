{
 "cells": [
  {
   "cell_type": "code",
   "execution_count": 1,
   "metadata": {},
   "outputs": [
    {
     "name": "stderr",
     "output_type": "stream",
     "text": [
      "2025-03-29 15:43:36.563 Python[8042:98318] WARNING: AVCaptureDeviceTypeExternal is deprecated for Continuity Cameras. Please use AVCaptureDeviceTypeContinuityCamera and add NSCameraUseContinuityCameraDeviceType to your Info.plist.\n"
     ]
    },
    {
     "name": "stdout",
     "output_type": "stream",
     "text": [
      "Capturing images... Press 'q' to quit.\n"
     ]
    },
    {
     "name": "stderr",
     "output_type": "stream",
     "text": [
      "2025-03-29 15:43:43.656 Python[8042:98318] +[IMKClient subclass]: chose IMKClient_Modern\n",
      "2025-03-29 15:43:43.656 Python[8042:98318] +[IMKInputSession subclass]: chose IMKInputSession_Modern\n"
     ]
    },
    {
     "name": "stdout",
     "output_type": "stream",
     "text": [
      "Captured 100 images for Neev Gupta.\n"
     ]
    }
   ],
   "source": [
    "import cv2\n",
    "import os\n",
    "\n",
    "# Initialize webcam\n",
    "cap = cv2.VideoCapture(0)\n",
    "face_cascade = cv2.CascadeClassifier(cv2.data.haarcascades + \"haarcascade_frontalface_default.xml\")\n",
    "\n",
    "# Create dataset folder\n",
    "dataset_path = \"dataset\"\n",
    "if not os.path.exists(dataset_path):\n",
    "    os.makedirs(dataset_path)\n",
    "\n",
    "# Ask for user name\n",
    "user_name = input(\"Enter your name: \")\n",
    "user_folder = os.path.join(dataset_path, user_name)\n",
    "\n",
    "if not os.path.exists(user_folder):\n",
    "    os.makedirs(user_folder)\n",
    "\n",
    "print(\"Capturing images... Press 'q' to quit.\")\n",
    "\n",
    "count = 0\n",
    "while True:\n",
    "    ret, frame = cap.read()\n",
    "    if not ret:\n",
    "        break\n",
    "\n",
    "    gray = cv2.cvtColor(frame, cv2.COLOR_BGR2GRAY)\n",
    "    faces = face_cascade.detectMultiScale(gray, 1.3, 5)\n",
    "\n",
    "    for (x, y, w, h) in faces:\n",
    "        count += 1\n",
    "        face_img = gray[y:y+h, x:x+w]\n",
    "        cv2.imwrite(f\"{user_folder}/{count}.jpg\", face_img)\n",
    "        cv2.rectangle(frame, (x, y), (x + w, y + h), (0, 255, 0), 2)\n",
    "\n",
    "    cv2.imshow(\"Capturing Faces\", frame)\n",
    "    \n",
    "    if cv2.waitKey(1) & 0xFF == ord('q') or count >= 100:\n",
    "        break\n",
    "\n",
    "cap.release()\n",
    "cv2.destroyAllWindows()\n",
    "print(f\"Captured {count} images for {user_name}.\")"
   ]
  },
  {
   "cell_type": "code",
   "execution_count": 2,
   "metadata": {},
   "outputs": [
    {
     "name": "stdout",
     "output_type": "stream",
     "text": [
      "Training on 300 images from 3 people.\n",
      "Training complete. Model saved as 'face_model.yml'.\n"
     ]
    }
   ],
   "source": [
    "import cv2\n",
    "import os\n",
    "import numpy as np\n",
    "import pickle\n",
    "\n",
    "# Ensure OpenCV has the face module\n",
    "try:\n",
    "    recognizer = cv2.face.LBPHFaceRecognizer_create()\n",
    "except AttributeError:\n",
    "    print(\"OpenCV is missing the face module. Install opencv-contrib-python:\")\n",
    "    print(\"pip install opencv-contrib-python\")\n",
    "    exit()\n",
    "\n",
    "face_cascade = cv2.CascadeClassifier(cv2.data.haarcascades + \"haarcascade_frontalface_default.xml\")\n",
    "\n",
    "dataset_path = \"dataset\"\n",
    "labels = []\n",
    "faces = []\n",
    "label_dict = {}\n",
    "\n",
    "current_id = 0\n",
    "\n",
    "for name in os.listdir(dataset_path):\n",
    "    person_path = os.path.join(dataset_path, name)\n",
    "    if not os.path.isdir(person_path):\n",
    "        continue\n",
    "\n",
    "    label_dict[current_id] = name  # Store label mapping\n",
    "\n",
    "    for image_name in os.listdir(person_path):\n",
    "        image_path = os.path.join(person_path, image_name)\n",
    "\n",
    "        img = cv2.imread(image_path, cv2.IMREAD_GRAYSCALE)\n",
    "\n",
    "        if img is None:\n",
    "            print(f\"Warning: Couldn't read {image_path}, skipping.\")\n",
    "            continue\n",
    "\n",
    "        faces.append(img)\n",
    "        labels.append(current_id)\n",
    "\n",
    "    current_id += 1\n",
    "\n",
    "# Check if we have enough data to train\n",
    "if len(faces) < 2:\n",
    "    print(\"Not enough data to train. Ensure at least 2 different people have images.\")\n",
    "    exit()\n",
    "\n",
    "labels = np.array(labels)\n",
    "\n",
    "print(f\"Training on {len(faces)} images from {len(label_dict)} people.\")\n",
    "recognizer.train(faces, labels)\n",
    "\n",
    "# Save the trained model and label dictionary\n",
    "recognizer.save(\"face_model.yml\")\n",
    "with open(\"labels.pkl\", \"wb\") as f:\n",
    "    pickle.dump(label_dict, f)\n",
    "\n",
    "print(\"Training complete. Model saved as 'face_model.yml'.\")"
   ]
  },
  {
   "cell_type": "code",
   "execution_count": null,
   "metadata": {},
   "outputs": [],
   "source": [
    "import cv2\n",
    "import pickle\n",
    "\n",
    "# Load trained model\n",
    "recognizer = cv2.face.LBPHFaceRecognizer_create()\n",
    "recognizer.read(\"face_model.yml\")\n",
    "\n",
    "# Load label dictionary\n",
    "with open(\"labels.pkl\", \"rb\") as f:\n",
    "    label_dict = pickle.load(f)\n",
    "\n",
    "face_cascade = cv2.CascadeClassifier(cv2.data.haarcascades + \"haarcascade_frontalface_default.xml\")\n",
    "\n",
    "cap = cv2.VideoCapture(0)\n",
    "\n",
    "while True:\n",
    "    ret, frame = cap.read()\n",
    "    if not ret:\n",
    "        break\n",
    "\n",
    "    gray = cv2.cvtColor(frame, cv2.COLOR_BGR2GRAY)\n",
    "    faces = face_cascade.detectMultiScale(gray, 1.3, 5)\n",
    "\n",
    "    for (x, y, w, h) in faces:\n",
    "        face_img = gray[y:y+h, x:x+w]\n",
    "        \n",
    "        try:\n",
    "            label_id, confidence = recognizer.predict(face_img)\n",
    "            name = label_dict.get(label_id, \"Unknown\")\n",
    "            confidence_text = f\"{name} ({round(confidence, 2)})\"\n",
    "        except:\n",
    "            name = \"Unknown\"\n",
    "            confidence_text = \"Unknown (Error)\"\n",
    "\n",
    "        # Green if confidence < 50, else Red\n",
    "        color = (0, 255, 0) if confidence < 50 else (0, 0, 255)\n",
    "        cv2.rectangle(frame, (x, y), (x + w, y + h), color, 2)\n",
    "        cv2.putText(frame, confidence_text, (x, y - 10), cv2.FONT_HERSHEY_SIMPLEX, 0.8, color, 2)\n",
    "\n",
    "    cv2.imshow(\"Face Recognition\", frame)\n",
    "\n",
    "    if cv2.waitKey(1) & 0xFF == ord('q'):\n",
    "        break\n",
    "\n",
    "cap.release()\n",
    "cv2.destroyAllWindows()"
   ]
  }
 ],
 "metadata": {
  "kernelspec": {
   "display_name": "Python 3",
   "language": "python",
   "name": "python3"
  },
  "language_info": {
   "codemirror_mode": {
    "name": "ipython",
    "version": 3
   },
   "file_extension": ".py",
   "mimetype": "text/x-python",
   "name": "python",
   "nbconvert_exporter": "python",
   "pygments_lexer": "ipython3",
   "version": "3.12.2"
  }
 },
 "nbformat": 4,
 "nbformat_minor": 2
}
